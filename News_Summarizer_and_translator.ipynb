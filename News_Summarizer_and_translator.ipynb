{
  "nbformat": 4,
  "nbformat_minor": 0,
  "metadata": {
    "colab": {
      "name": "News Summarizer and translator",
      "provenance": [],
      "collapsed_sections": [],
      "include_colab_link": true
    },
    "kernelspec": {
      "name": "python3",
      "display_name": "Python 3"
    },
    "language_info": {
      "name": "python"
    },
    "accelerator": "GPU"
  },
  "cells": [
    {
      "cell_type": "markdown",
      "metadata": {
        "id": "view-in-github",
        "colab_type": "text"
      },
      "source": [
        "<a href=\"https://colab.research.google.com/github/itztarekragab/News-summarizer-and-translator/blob/main/News_Summarizer_and_translator.ipynb\" target=\"_parent\"><img src=\"https://colab.research.google.com/assets/colab-badge.svg\" alt=\"Open In Colab\"/></a>"
      ]
    },
    {
      "cell_type": "code",
      "metadata": {
        "id": "VjyiLvo5UmOi"
      },
      "source": [
        "!pip install -q transformers sentencepiece newspaper3k"
      ],
      "execution_count": 1,
      "outputs": []
    },
    {
      "cell_type": "code",
      "metadata": {
        "id": "mF6u-0-7Unh2"
      },
      "source": [
        "import newspaper\n",
        "from transformers import BartTokenizer, BartForConditionalGeneration, BartConfig\n",
        "from transformers import MBartForConditionalGeneration, MBart50TokenizerFast\n",
        "import datetime"
      ],
      "execution_count": 2,
      "outputs": []
    },
    {
      "cell_type": "code",
      "metadata": {
        "id": "PRju-rfD5EAn"
      },
      "source": [
        "CNN_News = newspaper.build('https://edition.cnn.com/', language='en', memoize_articles=False)"
      ],
      "execution_count": 3,
      "outputs": []
    },
    {
      "cell_type": "code",
      "metadata": {
        "id": "hN1Z1izAYM0f"
      },
      "source": [
        "# Preform scrapping on this month's articles only (Top 10 articles for example)\n",
        "\n",
        "# Get today's date\n",
        "today = datetime.datetime.now()\n",
        "\n",
        "articles=[]\n",
        "\n",
        "# Loop over all the articles\n",
        "for article in CNN_News.articles:\n",
        "  article.download()\n",
        "  article.parse()\n",
        "  if (article.publish_date != None) and (len(article.text)>0) and (article.publish_date.month == today.month) and (article.publish_date.year == today.year) :\n",
        "    # Adding the article, its publications date, and its url to our list of articles \n",
        "    articles.append([article.text, article.publish_date, article.url])\n",
        "\n",
        "  # Get only the first 10 articles\n",
        "  if len (articles) == 10 :\n",
        "    break"
      ],
      "execution_count": 4,
      "outputs": []
    },
    {
      "cell_type": "code",
      "source": [
        "# Text summarization using bart-large-cnn model from huggingface\n",
        "\n",
        "# loading the pretrained model\n",
        "model = BartForConditionalGeneration.from_pretrained('facebook/bart-large-cnn')\n",
        "tokenizer = BartTokenizer.from_pretrained('facebook/bart-large-cnn')\n",
        " \n",
        "for article in articles:\n",
        "  # Passing the article's original text \n",
        "  inputs = tokenizer([article[0][:512]], return_tensors='pt')\n",
        "  # Generate Summary\n",
        "  summary_ids = model.generate(inputs['input_ids'] , early_stopping=True)\n",
        "  summary = [tokenizer.decode(summary_id, skip_special_tokens=True, clean_up_tokenization_spaces=False) for summary_id in summary_ids][0]\n",
        "  # Adding the summary to the list of each article\n",
        "  article.append(summary)"
      ],
      "metadata": {
        "id": "q-A4dwRQpAoV"
      },
      "execution_count": 5,
      "outputs": []
    },
    {
      "cell_type": "code",
      "source": [
        "# Machine Translation for each article using mbart-large-50-many-to-many-mmt from huggingface\n",
        "\n",
        "# loading the pretrained model\n",
        "model = MBartForConditionalGeneration.from_pretrained(\"facebook/mbart-large-50-many-to-many-mmt\")\n",
        "tokenizer = MBart50TokenizerFast.from_pretrained(\"facebook/mbart-large-50-many-to-many-mmt\")\n",
        "\n",
        "for article in articles :\n",
        "  tokenizer.src_lang = \"en_XX\"\n",
        "  tokenizer.dst_lang = \"ar_AR\"\n",
        "  # Passing the artical's text summary\n",
        "  encoded_ar = tokenizer(article[3][:512], return_tensors=\"pt\")\n",
        "  # Generate translation\n",
        "  generated_tokens = model.generate(**encoded_ar, forced_bos_token_id=tokenizer.lang_code_to_id[\"ar_AR\"])\n",
        "  translation = tokenizer.batch_decode(generated_tokens, skip_special_tokens=True)[0]\n",
        "  article.append(translation)"
      ],
      "metadata": {
        "id": "obJJH_xWwdyH"
      },
      "execution_count": 6,
      "outputs": []
    },
    {
      "cell_type": "code",
      "source": [
        "print(\"The article is :\", articles[7][0])\n",
        "print(\"The article url is :\", articles[7][2])\n",
        "print(\"The article summary is :\", articles[7][3])\n",
        "print(\"The article summary translation is :\",articles[7][4])"
      ],
      "metadata": {
        "colab": {
          "base_uri": "https://localhost:8080/"
        },
        "id": "jkDaXS7KeuD1",
        "outputId": "5fa2f00b-f248-4ea8-bacd-0a1226a7122a"
      },
      "execution_count": 9,
      "outputs": [
        {
          "output_type": "stream",
          "name": "stdout",
          "text": [
            "The article is : (CNN) Brazilian soccer legend Pelé has been hospitalized for chemotherapy treatment of a colon tumor Wednesday, a spokesperson at Sao Paulo's Albert Einstein hospital confirmed to CNN.\n",
            "\n",
            "\"He is in stable condition and expected to be released in the next few days,\" the spokesperson told CNN.\n",
            "\n",
            "Pelé, 81, underwent surgery to remove a tumor from his right colon in September 2021, which was found by doctors during routine examinations.\n",
            "\n",
            "\"When the path is difficult, celebrate each step of the journey,\" Pele wrote on Instagram at the time.\n",
            "\n",
            "\"Focus on your happiness. It's true that I can't jump anymore, but these past few days, I've been punching the air more times than usual.\n",
            "\n",
            "Read More\n",
            "The article url is : https://www.cnn.com/2021/12/08/football/pele-soccer-legend-hospitalized-spt-intl/index.html\n",
            "The article summary is : \"He is in stable condition and expected to be released in the next few days,\" a hospital spokesperson says. Pelé, 81, underwent surgery to remove a tumor from his right colon in September 2021. The tumor was found by doctors during routine examinations. \"When the path is difficult, celebrate each step of the journey,\" Pele wrote.\n",
            "The article summary translation is : \"إنه في حالة مستقرة وتوقع أن يتم إطلاقه في الأيام القليلة القادمة،\" تقول متحدثة المستشفى. بيلي، 81، تعرضت لعملية جراحية لإزالة الورم من كبده اليمنى في سبتمبر 2021. تم اكتشاف الورم من قبل الأطباء خلال الفحص العادي. \"عندما يكون الطريق صعبا، احتفلوا بكل خطوة من الرحلة،\" كتب بيلي.\n"
          ]
        }
      ]
    }
  ]
}